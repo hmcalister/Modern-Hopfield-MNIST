{
 "cells": [
  {
   "cell_type": "code",
   "execution_count": null,
   "metadata": {},
   "outputs": [],
   "source": [
    "import torch\n",
    "from HopfieldNetworkPyTorch.ModernHopfieldNetwork import ModernHopfieldNetwork, InteractionFunction\n",
    "from torchvision import datasets\n",
    "from torchvision.transforms import ToTensor\n",
    "\n",
    "import matplotlib as mpl\n",
    "from matplotlib.figure import Figure\n",
    "from matplotlib.axes import Axes\n",
    "import matplotlib.pyplot as plt\n",
    "import numpy as np\n",
    "import pandas as pd\n",
    "\n",
    "device = \"cuda\" if torch.cuda.is_available() else \"cpu\"\n",
    "\n",
    "if not torch.cuda.is_available():\n",
    "    print(\"WARNING: This script can take a substantial amount of time without a GPU!\")"
   ]
  },
  {
   "cell_type": "code",
   "execution_count": null,
   "metadata": {},
   "outputs": [],
   "source": [
    "# Defines the number of classes for the task, in this case 10 digits\n",
    "numClasses = 10\n",
    "\n",
    "# Defines the image shape of this task\n",
    "imageShape = (28, 28)\n",
    "\n",
    "# Defines the threshold of the heaiviside function. \n",
    "# When normalized between 0 and 1, pixels below this intensity are mapped to -1, above are mapped to 1.\n",
    "imageThreshold = 0.5\n",
    "\n",
    "def displayStatesAsImage(statesTensor: torch.Tensor, numImages: int, fig_kw: dict = {}) -> tuple[Figure, list[Axes]]:\n",
    "    \"\"\"\n",
    "    Given a set of tensors of shape (imageShape[0]*imageShape[1]*numClasses, N), take only the image neurons of the first numImages items and display them.\n",
    "    \"\"\"\n",
    "\n",
    "    numSubplot = np.ceil(np.sqrt(numImages)).astype(int)\n",
    "    fig, axes = plt.subplots(numSubplot, numSubplot, **fig_kw)\n",
    "    for ax in np.ravel(axes):\n",
    "        ax.axis(\"off\")\n",
    "    \n",
    "    for itemIndex, ax in zip(range(numImages), np.ravel(axes)):\n",
    "        targetMemory = statesTensor[:imageShape[0]*imageShape[1], itemIndex].to(\"cpu\").detach().numpy()\n",
    "        targetMemory = targetMemory.reshape(imageShape)\n",
    "        ax.imshow(targetMemory)\n",
    "        # plt.colorbar()\n",
    "    \n",
    "    return fig, axes\n",
    "\n",
    "def getClassesFromStateTensor(stateTensor: torch.Tensor):\n",
    "    \"\"\"\n",
    "    Compute the class label of the states in stateTensor.\n",
    "\n",
    "    The class is computed by the argmax of the class neurons (the final numClasses neurons)\n",
    "    \"\"\"\n",
    "\n",
    "    return torch.argmax(stateTensor[-numClasses:, :], dim=0)"
   ]
  },
  {
   "cell_type": "markdown",
   "metadata": {},
   "source": [
    "# Load the MNIST dataset"
   ]
  },
  {
   "cell_type": "code",
   "execution_count": null,
   "metadata": {},
   "outputs": [],
   "source": [
    "trainingData = datasets.MNIST(\n",
    "    root=\"data\",\n",
    "    train=True,\n",
    "    download=True,\n",
    "    transform=ToTensor()\n",
    ")\n",
    "\n",
    "X_train = torch.flatten(trainingData.data, start_dim=1).T\n",
    "X_train = X_train / 255.0\n",
    "X_train[X_train < imageThreshold] = -1\n",
    "X_train[X_train > imageThreshold] = 1\n",
    "y_train = torch.full((trainingData.targets.shape[0], numClasses), -1)       # Creates a new vector of -1 for each item in the training data\n",
    "y_train = y_train.scatter(1, trainingData.targets.view(-1,1), 1).T          # Puts a 1 at the correct class index for each vector, now one hot encoded\n",
    "trainingStates = torch.cat((X_train, y_train))                              # Finally, put the image data and class data together into a single tensor\n",
    "del X_train\n",
    "del y_train\n",
    "del trainingData\n",
    "\n",
    "testingData = datasets.MNIST(\n",
    "    root=\"data\",\n",
    "    train=False,\n",
    "    download=True,\n",
    "    transform=ToTensor()\n",
    ")\n",
    "\n",
    "X_test = torch.flatten(testingData.data, start_dim=1).T\n",
    "X_test = X_test / 255.0\n",
    "X_test[X_test < imageThreshold] = -1\n",
    "X_test[X_test > imageThreshold] = 1\n",
    "y_test = torch.full((testingData.targets.shape[0], numClasses), -1)      # Creates a new vector of -1 for each item in the testing data\n",
    "y_test = y_test.scatter(1, testingData.targets.view(-1,1), 1).T          # Puts a 1 at the correct class index for each vector, now one hot encoded\n",
    "testingStates = torch.cat((X_test, y_test))                              # Finally, put the image data and class data together into a single tensor\n",
    "del X_test\n",
    "del y_test\n",
    "del testingData\n",
    "\n",
    "fig, _ = displayStatesAsImage(trainingStates, 16, fig_kw={\"figsize\": (12,12)})\n",
    "fig.suptitle(\"Training States\")\n",
    "plt.show()"
   ]
  },
  {
   "cell_type": "markdown",
   "metadata": {},
   "source": [
    "# Define Network Parameters"
   ]
  },
  {
   "cell_type": "code",
   "execution_count": null,
   "metadata": {},
   "outputs": [],
   "source": [
    "# Dimension of our network will be the flattened image shape (28*28) plus a number of neurons equal to the number of classes (10)\n",
    "dimension = (imageShape[0] * imageShape[1])+numClasses\n",
    "\n",
    "# Since we will not update the \"image neurons\" we mask only the \"class neurons\"\n",
    "neuronMask = torch.arange(dimension-10, dimension)\n",
    "\n",
    "# We must also set the various ModernHopfieldNetwork parameters\n",
    "\n",
    "interactionVertex = 15\n",
    "numMemories = 100\n",
    "initialLearningRate = 1e-3\n",
    "learningRateDecay = 0.999\n",
    "momentum = 0.6\n",
    "initialTemperature = 500\n",
    "finalTemperature = 500\n",
    "errorPower = 1\n",
    "\n",
    "maximumTrainingEpochs = 1000\n",
    "itemBatchSize = 1024\n",
    "neuronBatchSize = 10\n"
   ]
  },
  {
   "cell_type": "markdown",
   "metadata": {},
   "source": [
    "# Create and Train the Network"
   ]
  },
  {
   "cell_type": "code",
   "execution_count": null,
   "metadata": {},
   "outputs": [],
   "source": [
    "network = ModernHopfieldNetwork(\n",
    "    dimension = dimension,\n",
    "    nMemories = numMemories,\n",
    "    interactionFunction = InteractionFunction.RectifiedPolynomialInteractionFunction(interactionVertex),\n",
    "    torchDevice = device,\n",
    "    itemBatchSize = itemBatchSize,\n",
    "    neuronBatchSize = neuronBatchSize \n",
    ")\n",
    "\n",
    "# Bias the network's class neurons to have negative values\n",
    "\n",
    "newMemories = torch.normal(mean=torch.full_like(network.memories, 0.0))\n",
    "newMemories[-numClasses:, :] = torch.normal(mean=torch.full_like(network.memories[-numClasses:, :], -0.3))\n",
    "newMemories = newMemories.clamp_(-1,1)\n",
    "network.setMemories(newMemories)"
   ]
  },
  {
   "cell_type": "code",
   "execution_count": null,
   "metadata": {},
   "outputs": [],
   "source": [
    "# Learn the memory vectors\n",
    "\n",
    "trainingStates = trainingStates[:, :2**14]\n",
    "\n",
    "history = network.learnMemories(\n",
    "    trainingStates.to(device),\n",
    "    maxEpochs = maximumTrainingEpochs, \n",
    "    initialLearningRate = initialLearningRate,\n",
    "    learningRateDecay = learningRateDecay,\n",
    "    momentum = momentum,\n",
    "    initialTemperature = initialTemperature,\n",
    "    finalTemperature = finalTemperature,\n",
    "    errorPower = errorPower,\n",
    "    neuronMask = neuronMask,\n",
    "    precision=1e-30,\n",
    "    verbose=2,\n",
    ")\n",
    "\n",
    "plt.plot(np.arange(len(history)), history)\n",
    "plt.title(\"Loss History\")\n",
    "plt.xlabel(\"Epoch\")\n",
    "plt.ylabel(\"Loss\")\n",
    "plt.show()"
   ]
  },
  {
   "cell_type": "markdown",
   "metadata": {},
   "source": [
    "# Relax and Predict the Testing Data"
   ]
  },
  {
   "cell_type": "code",
   "execution_count": null,
   "metadata": {},
   "outputs": [],
   "source": [
    "relaxedTestingStates = testingStates.clone().to(device)\n",
    "relaxedTestingStates[-numClasses:, :] = -1\n",
    "network.stepStates(relaxedTestingStates, neuronMask=neuronMask, activationFunction=lambda X: X)\n",
    "relaxedTestingStates = relaxedTestingStates.to(\"cpu\")"
   ]
  },
  {
   "cell_type": "code",
   "execution_count": null,
   "metadata": {},
   "outputs": [],
   "source": [
    "shuffleIndices = torch.randperm(testingStates.shape[1])\n",
    "testingStates = testingStates[:, shuffleIndices]\n",
    "relaxedTestingStates = relaxedTestingStates[:, shuffleIndices]\n",
    "\n",
    "\n",
    "trueTestingClassLabel = getClassesFromStateTensor(testingStates)\n",
    "predictedClassSoftmax = torch.nn.Softmax(dim=0)(relaxedTestingStates[-numClasses:, :])\n",
    "predictedClassLabel = getClassesFromStateTensor(relaxedTestingStates)\n",
    "\n",
    "numItems = 16\n",
    "print(f\"True Class Labels:\\t\\t{trueTestingClassLabel[:numItems]}\")\n",
    "print(f\"Predicted Class Labels:\\t\\t{predictedClassLabel[:numItems]}\")\n",
    "\n",
    "fig, axes = displayStatesAsImage(testingStates, numItems, fig_kw={\"figsize\": (12,12)})\n",
    "for trueLabel, predLabel, ax in zip(trueTestingClassLabel, predictedClassLabel, np.ravel(axes)):\n",
    "    ax: Axes\n",
    "    ax.set_title(f\"True: {trueLabel}\\nPred: {predLabel}\")\n",
    "plt.tight_layout()\n",
    "plt.show()\n",
    "\n",
    "# print(f\"True Class Softmax:\\t\\t{predictedClassSoftmax[:numItems]}\")"
   ]
  },
  {
   "cell_type": "markdown",
   "metadata": {},
   "source": [
    "# Display the Network Memories"
   ]
  },
  {
   "cell_type": "code",
   "execution_count": null,
   "metadata": {},
   "outputs": [],
   "source": [
    "shuffleIndices = torch.randperm(numMemories)\n",
    "memories = network.memories[:, shuffleIndices]\n",
    "displayStatesAsImage(memories, numImages=16, fig_kw={\"figsize\": (12,12)})\n",
    "plt.show()\n",
    "\n",
    "displayStatesAsImage(memories, numImages=numMemories, fig_kw={\"figsize\": (12,12)})\n",
    "plt.show()"
   ]
  }
 ],
 "metadata": {
  "kernelspec": {
   "display_name": "pytorch",
   "language": "python",
   "name": "python3"
  },
  "language_info": {
   "codemirror_mode": {
    "name": "ipython",
    "version": 3
   },
   "file_extension": ".py",
   "mimetype": "text/x-python",
   "name": "python",
   "nbconvert_exporter": "python",
   "pygments_lexer": "ipython3",
   "version": "3.10.13"
  }
 },
 "nbformat": 4,
 "nbformat_minor": 2
}
